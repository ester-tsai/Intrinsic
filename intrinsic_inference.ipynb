{
 "cells": [
  {
   "cell_type": "markdown",
   "metadata": {
    "id": "-lKPW1wZEulh"
   },
   "source": [
    "Make sure to set the runtime to GPU: Runtime -> Change runtime type -> T4 GPU\n",
    "\n",
    "You can upload your own images, then change the relevant code cells to load it and send it through the model."
   ]
  },
  {
   "cell_type": "code",
   "execution_count": null,
   "metadata": {
    "id": "_cPkUxN-ikld"
   },
   "outputs": [],
   "source": [
    "# install the intrinsic decomposition repo from github\n",
    "!pip install https://github.com/compphoto/Intrinsic/archive/main.zip"
   ]
  },
  {
   "cell_type": "code",
   "execution_count": 1,
   "metadata": {
    "id": "J0gn82ZSjomn"
   },
   "outputs": [],
   "source": [
    "import torch\n",
    "\n",
    "# import some helper functions from chrislib (will be installed by the intrinsic repo)\n",
    "from chrislib.general import show, view, uninvert\n",
    "from chrislib.data_util import load_image\n",
    "\n",
    "# import model loading and running the pipeline\n",
    "from intrinsic.pipeline import run_pipeline\n",
    "from intrinsic.model_util import load_models"
   ]
  },
  {
   "cell_type": "code",
   "execution_count": 2,
   "metadata": {
    "id": "Ap3HubpwC_KG"
   },
   "outputs": [
    {
     "name": "stderr",
     "output_type": "stream",
     "text": [
      "Downloading: \"https://github.com/compphoto/Intrinsic/releases/download/v1.0/final_weights.pt\" to /tmp/xdg-cache/torch/hub/checkpoints/final_weights.pt\n",
      "100%|██████████| 485M/485M [00:07<00:00, 70.5MB/s] \n",
      "Downloading: \"https://github.com/facebookresearch/WSL-Images/zipball/main\" to /tmp/xdg-cache/torch/hub/main.zip\n",
      "Downloading: \"https://download.pytorch.org/models/ig_resnext101_32x8-c38310e5.pth\" to /tmp/xdg-cache/torch/hub/checkpoints/ig_resnext101_32x8-c38310e5.pth\n",
      "100%|██████████| 340M/340M [00:01<00:00, 343MB/s] \n",
      "/opt/conda/lib/python3.9/site-packages/torch/hub.py:286: UserWarning: You are about to download and run code from an untrusted repository. In a future release, this won't be allowed. To add the repository to your trusted list, change the command to {calling_fn}(..., trust_repo=False) and a command prompt will appear asking for an explicit confirmation of trust, or load(..., trust_repo=True), which will assume that the prompt is to be answered with 'yes'. You can also use load(..., trust_repo='check') which will only prompt for confirmation if the repo is not already trusted. This will eventually be the default behaviour\n",
      "  warnings.warn(\n",
      "Downloading: \"https://github.com/rwightman/gen-efficientnet-pytorch/zipball/master\" to /tmp/xdg-cache/torch/hub/master.zip\n"
     ]
    }
   ],
   "source": [
    "# download the pretrained weights and return the model (may take a bit to download weights)\n",
    "intrinsic_model = load_models('paper_weights')"
   ]
  },
  {
   "cell_type": "code",
   "execution_count": null,
   "metadata": {
    "id": "m_NYfDx0AhTw"
   },
   "outputs": [],
   "source": [
    "# load an example image from the github repo\n",
    "torch.hub.download_url_to_file('https://raw.githubusercontent.com/compphoto/Intrinsic/main/figures/avocado.png', 'avo.png')"
   ]
  },
  {
   "cell_type": "code",
   "execution_count": null,
   "metadata": {
    "id": "ALb4Pjfvj-MU"
   },
   "outputs": [],
   "source": [
    "# load the image to run through the pipeline\n",
    "img = load_image('/content/avo.png')"
   ]
  },
  {
   "cell_type": "code",
   "execution_count": null,
   "metadata": {
    "id": "QW0TiFypkOj-"
   },
   "outputs": [],
   "source": [
    "# run the image through the pipeline (use R0 resizing dicussed in the paper)\n",
    "result = run_pipeline(\n",
    "    intrinsic_model,\n",
    "    img,\n",
    "    resize_conf=0.0,\n",
    "    maintain_size=True,\n",
    "    linear=False,\n",
    "    device='cuda'\n",
    ")"
   ]
  },
  {
   "cell_type": "code",
   "execution_count": null,
   "metadata": {
    "id": "XpYY2MNjkp2f"
   },
   "outputs": [],
   "source": [
    "# convert the inverse shading to regular shading for visualization\n",
    "shd = uninvert(result['inv_shading'])\n",
    "alb = result['albedo']"
   ]
  },
  {
   "cell_type": "code",
   "execution_count": null,
   "metadata": {
    "id": "8KKbyoVLki9s"
   },
   "outputs": [],
   "source": [
    "# show the result (gamma corrects the linear intrinsic components and scales to [0-1])\n",
    "show([img, view(shd), view(alb)], size=(20, 7))"
   ]
  },
  {
   "cell_type": "markdown",
   "metadata": {},
   "source": [
    "# Ester - apply Intrinsic to our project images"
   ]
  },
  {
   "cell_type": "code",
   "execution_count": 10,
   "metadata": {},
   "outputs": [],
   "source": [
    "import os\n",
    "from os import listdir\n",
    "import matplotlib.pyplot as plt\n",
    " \n",
    "input_folder = \"../scene-representation-diffusion-model/datasets/images/\"\n",
    "output_folder = \"../scene-representation-diffusion-model/datasets/shading/\"\n",
    "for input_image in os.listdir(input_folder):\n",
    " \n",
    "    # check if the image ends with png\n",
    "    if (input_image.endswith(\".png\")):\n",
    "        img = load_image(input_folder + input_image)[:,:,:3]\n",
    "        \n",
    "        # run the image through the pipeline (use R0 resizing dicussed in the paper)\n",
    "        result = run_pipeline(\n",
    "            intrinsic_model,\n",
    "            img,\n",
    "            resize_conf=0.0,\n",
    "            maintain_size=True,\n",
    "            linear=False,\n",
    "            device='cuda'\n",
    "        )\n",
    "        \n",
    "        # convert the inverse shading to regular shading for visualization\n",
    "        shd = uninvert(result['inv_shading'])\n",
    "        \n",
    "        # save the shading image in a folder \n",
    "        plt.imsave(output_folder + input_image, view(shd), cmap='gray')\n",
    "        "
   ]
  },
  {
   "cell_type": "code",
   "execution_count": null,
   "metadata": {},
   "outputs": [],
   "source": []
  },
  {
   "cell_type": "code",
   "execution_count": null,
   "metadata": {},
   "outputs": [],
   "source": []
  }
 ],
 "metadata": {
  "accelerator": "GPU",
  "colab": {
   "gpuType": "T4",
   "provenance": []
  },
  "kernelspec": {
   "display_name": "Python 3 (ipykernel)",
   "language": "python",
   "name": "python3"
  },
  "language_info": {
   "codemirror_mode": {
    "name": "ipython",
    "version": 3
   },
   "file_extension": ".py",
   "mimetype": "text/x-python",
   "name": "python",
   "nbconvert_exporter": "python",
   "pygments_lexer": "ipython3",
   "version": "3.9.5"
  }
 },
 "nbformat": 4,
 "nbformat_minor": 1
}
